{
 "cells": [
  {
   "cell_type": "code",
   "execution_count": 1,
   "id": "508f19ab",
   "metadata": {},
   "outputs": [],
   "source": [
    "# This command reloads our modules as we edit them\n",
    "%load_ext autoreload\n",
    "%autoreload 1"
   ]
  },
  {
   "cell_type": "code",
   "execution_count": 2,
   "id": "389e836c",
   "metadata": {},
   "outputs": [],
   "source": [
    "import os\n",
    "import sys"
   ]
  },
  {
   "cell_type": "code",
   "execution_count": 3,
   "id": "a7a14eb6",
   "metadata": {},
   "outputs": [],
   "source": [
    "sys.path.append('../src')"
   ]
  },
  {
   "cell_type": "code",
   "execution_count": 4,
   "id": "b13f57b2",
   "metadata": {},
   "outputs": [],
   "source": [
    "import matly.pyplot as plt"
   ]
  },
  {
   "cell_type": "markdown",
   "id": "d5a9d5e5",
   "metadata": {},
   "source": [
    "# Plot - matplotlib"
   ]
  },
  {
   "cell_type": "code",
   "execution_count": 5,
   "id": "cd1456fb",
   "metadata": {},
   "outputs": [],
   "source": [
    "from matplotlib import rcParams\n",
    "rcParams['axes.labelsize'] = 1"
   ]
  },
  {
   "cell_type": "code",
   "execution_count": 6,
   "id": "1491d89b",
   "metadata": {},
   "outputs": [
    {
     "name": "stderr",
     "output_type": "stream",
     "text": [
      "Duplicate key in file '../src/stylesheets/matly.mplstyle', line 16 ('axes.edgecolor : grey')\n",
      "Bad value in file '../src/stylesheets/matly.mplstyle', line 42 ('figure.figsize : (10, 7)'): Key figure.figsize: Could not convert '(10' to float\n",
      "/var/folders/_j/jzggw0gj6r9fkq84d3bbh2k40000gn/T/ipykernel_33851/3623640436.py:6: UserWarning: Matplotlib is currently using module://matplotlib_inline.backend_inline, which is a non-GUI backend, so cannot show the figure.\n",
      "  f.show()\n"
     ]
    },
    {
     "data": {
      "image/png": "[encoded data removed]",
      "text/plain": [
       "<Figure size 640x480 with 1 Axes>"
      ]
     },
     "metadata": {},
     "output_type": "display_data"
    }
   ],
   "source": [
    "import matplotlib.pyplot as plt\n",
    "\n",
    "plt.style.use(\"../src/stylesheets/matly.mplstyle\")\n",
    "f, ax = plt.subplots(1, 1)\n",
    "ax.plot([1, 2, 3])\n",
    "f.show()"
   ]
  },
  {
   "cell_type": "markdown",
   "id": "1ee77340",
   "metadata": {},
   "source": [
    "## Plot - Matly"
   ]
  },
  {
   "cell_type": "code",
   "execution_count": 7,
   "id": "7c28445f",
   "metadata": {},
   "outputs": [
    {
     "data": {
      "text/plain": [
       "['_internal.classic_mode',\n",
       " 'agg.path.chunksize',\n",
       " 'animation.bitrate',\n",
       " 'animation.codec',\n",
       " 'animation.convert_args',\n",
       " 'animation.convert_path',\n",
       " 'animation.embed_limit',\n",
       " 'animation.ffmpeg_args',\n",
       " 'animation.ffmpeg_path',\n",
       " 'animation.frame_format',\n",
       " 'animation.html',\n",
       " 'animation.writer',\n",
       " 'axes.autolimit_mode',\n",
       " 'axes.axisbelow',\n",
       " 'axes.edgecolor',\n",
       " 'axes.facecolor',\n",
       " 'axes.formatter.limits',\n",
       " 'axes.formatter.min_exponent',\n",
       " 'axes.formatter.offset_threshold',\n",
       " 'axes.formatter.use_locale',\n",
       " 'axes.formatter.use_mathtext',\n",
       " 'axes.formatter.useoffset',\n",
       " 'axes.grid',\n",
       " 'axes.grid.axis',\n",
       " 'axes.grid.which',\n",
       " 'axes.labelcolor',\n",
       " 'axes.labelpad',\n",
       " 'axes.labelsize',\n",
       " 'axes.labelweight',\n",
       " 'axes.linewidth',\n",
       " 'axes.prop_cycle',\n",
       " 'axes.spines.bottom',\n",
       " 'axes.spines.left',\n",
       " 'axes.spines.right',\n",
       " 'axes.spines.top',\n",
       " 'axes.titlecolor',\n",
       " 'axes.titlelocation',\n",
       " 'axes.titlepad',\n",
       " 'axes.titlesize',\n",
       " 'axes.titleweight',\n",
       " 'axes.titley',\n",
       " 'axes.unicode_minus',\n",
       " 'axes.xmargin',\n",
       " 'axes.ymargin',\n",
       " 'axes.zmargin',\n",
       " 'axes3d.grid',\n",
       " 'backend',\n",
       " 'backend_fallback',\n",
       " 'boxplot.bootstrap',\n",
       " 'boxplot.boxprops.color',\n",
       " 'boxplot.boxprops.linestyle',\n",
       " 'boxplot.boxprops.linewidth',\n",
       " 'boxplot.capprops.color',\n",
       " 'boxplot.capprops.linestyle',\n",
       " 'boxplot.capprops.linewidth',\n",
       " 'boxplot.flierprops.color',\n",
       " 'boxplot.flierprops.linestyle',\n",
       " 'boxplot.flierprops.linewidth',\n",
       " 'boxplot.flierprops.marker',\n",
       " 'boxplot.flierprops.markeredgecolor',\n",
       " 'boxplot.flierprops.markeredgewidth',\n",
       " 'boxplot.flierprops.markerfacecolor',\n",
       " 'boxplot.flierprops.markersize',\n",
       " 'boxplot.meanline',\n",
       " 'boxplot.meanprops.color',\n",
       " 'boxplot.meanprops.linestyle',\n",
       " 'boxplot.meanprops.linewidth',\n",
       " 'boxplot.meanprops.marker',\n",
       " 'boxplot.meanprops.markeredgecolor',\n",
       " 'boxplot.meanprops.markerfacecolor',\n",
       " 'boxplot.meanprops.markersize',\n",
       " 'boxplot.medianprops.color',\n",
       " 'boxplot.medianprops.linestyle',\n",
       " 'boxplot.medianprops.linewidth',\n",
       " 'boxplot.notch',\n",
       " 'boxplot.patchartist',\n",
       " 'boxplot.showbox',\n",
       " 'boxplot.showcaps',\n",
       " 'boxplot.showfliers',\n",
       " 'boxplot.showmeans',\n",
       " 'boxplot.vertical',\n",
       " 'boxplot.whiskerprops.color',\n",
       " 'boxplot.whiskerprops.linestyle',\n",
       " 'boxplot.whiskerprops.linewidth',\n",
       " 'boxplot.whiskers',\n",
       " 'contour.algorithm',\n",
       " 'contour.corner_mask',\n",
       " 'contour.linewidth',\n",
       " 'contour.negative_linestyle',\n",
       " 'date.autoformatter.day',\n",
       " 'date.autoformatter.hour',\n",
       " 'date.autoformatter.microsecond',\n",
       " 'date.autoformatter.minute',\n",
       " 'date.autoformatter.month',\n",
       " 'date.autoformatter.second',\n",
       " 'date.autoformatter.year',\n",
       " 'date.converter',\n",
       " 'date.epoch',\n",
       " 'date.interval_multiples',\n",
       " 'docstring.hardcopy',\n",
       " 'errorbar.capsize',\n",
       " 'figure.autolayout',\n",
       " 'figure.constrained_layout.h_pad',\n",
       " 'figure.constrained_layout.hspace',\n",
       " 'figure.constrained_layout.use',\n",
       " 'figure.constrained_layout.w_pad',\n",
       " 'figure.constrained_layout.wspace',\n",
       " 'figure.dpi',\n",
       " 'figure.edgecolor',\n",
       " 'figure.facecolor',\n",
       " 'figure.figsize',\n",
       " 'figure.frameon',\n",
       " 'figure.labelsize',\n",
       " 'figure.labelweight',\n",
       " 'figure.max_open_warning',\n",
       " 'figure.raise_window',\n",
       " 'figure.subplot.bottom',\n",
       " 'figure.subplot.hspace',\n",
       " 'figure.subplot.left',\n",
       " 'figure.subplot.right',\n",
       " 'figure.subplot.top',\n",
       " 'figure.subplot.wspace',\n",
       " 'figure.titlesize',\n",
       " 'figure.titleweight',\n",
       " 'font.cursive',\n",
       " 'font.family',\n",
       " 'font.fantasy',\n",
       " 'font.monospace',\n",
       " 'font.sans-serif',\n",
       " 'font.serif',\n",
       " 'font.size',\n",
       " 'font.stretch',\n",
       " 'font.style',\n",
       " 'font.variant',\n",
       " 'font.weight',\n",
       " 'grid.alpha',\n",
       " 'grid.color',\n",
       " 'grid.linestyle',\n",
       " 'grid.linewidth',\n",
       " 'hatch.color',\n",
       " 'hatch.linewidth',\n",
       " 'hist.bins',\n",
       " 'image.aspect',\n",
       " 'image.cmap',\n",
       " 'image.composite_image',\n",
       " 'image.interpolation',\n",
       " 'image.lut',\n",
       " 'image.origin',\n",
       " 'image.resample',\n",
       " 'interactive',\n",
       " 'keymap.back',\n",
       " 'keymap.copy',\n",
       " 'keymap.forward',\n",
       " 'keymap.fullscreen',\n",
       " 'keymap.grid',\n",
       " 'keymap.grid_minor',\n",
       " 'keymap.help',\n",
       " 'keymap.home',\n",
       " 'keymap.pan',\n",
       " 'keymap.quit',\n",
       " 'keymap.quit_all',\n",
       " 'keymap.save',\n",
       " 'keymap.xscale',\n",
       " 'keymap.yscale',\n",
       " 'keymap.zoom',\n",
       " 'legend.borderaxespad',\n",
       " 'legend.borderpad',\n",
       " 'legend.columnspacing',\n",
       " 'legend.edgecolor',\n",
       " 'legend.facecolor',\n",
       " 'legend.fancybox',\n",
       " 'legend.fontsize',\n",
       " 'legend.framealpha',\n",
       " 'legend.frameon',\n",
       " 'legend.handleheight',\n",
       " 'legend.handlelength',\n",
       " 'legend.handletextpad',\n",
       " 'legend.labelcolor',\n",
       " 'legend.labelspacing',\n",
       " 'legend.loc',\n",
       " 'legend.markerscale',\n",
       " 'legend.numpoints',\n",
       " 'legend.scatterpoints',\n",
       " 'legend.shadow',\n",
       " 'legend.title_fontsize',\n",
       " 'lines.antialiased',\n",
       " 'lines.color',\n",
       " 'lines.dash_capstyle',\n",
       " 'lines.dash_joinstyle',\n",
       " 'lines.dashdot_pattern',\n",
       " 'lines.dashed_pattern',\n",
       " 'lines.dotted_pattern',\n",
       " 'lines.linestyle',\n",
       " 'lines.linewidth',\n",
       " 'lines.marker',\n",
       " 'lines.markeredgecolor',\n",
       " 'lines.markeredgewidth',\n",
       " 'lines.markerfacecolor',\n",
       " 'lines.markersize',\n",
       " 'lines.scale_dashes',\n",
       " 'lines.solid_capstyle',\n",
       " 'lines.solid_joinstyle',\n",
       " 'markers.fillstyle',\n",
       " 'mathtext.bf',\n",
       " 'mathtext.cal',\n",
       " 'mathtext.default',\n",
       " 'mathtext.fallback',\n",
       " 'mathtext.fontset',\n",
       " 'mathtext.it',\n",
       " 'mathtext.rm',\n",
       " 'mathtext.sf',\n",
       " 'mathtext.tt',\n",
       " 'patch.antialiased',\n",
       " 'patch.edgecolor',\n",
       " 'patch.facecolor',\n",
       " 'patch.force_edgecolor',\n",
       " 'patch.linewidth',\n",
       " 'path.effects',\n",
       " 'path.simplify',\n",
       " 'path.simplify_threshold',\n",
       " 'path.sketch',\n",
       " 'path.snap',\n",
       " 'pcolor.shading',\n",
       " 'pcolormesh.snap',\n",
       " 'pdf.compression',\n",
       " 'pdf.fonttype',\n",
       " 'pdf.inheritcolor',\n",
       " 'pdf.use14corefonts',\n",
       " 'pgf.preamble',\n",
       " 'pgf.rcfonts',\n",
       " 'pgf.texsystem',\n",
       " 'polaraxes.grid',\n",
       " 'ps.distiller.res',\n",
       " 'ps.fonttype',\n",
       " 'ps.papersize',\n",
       " 'ps.useafm',\n",
       " 'ps.usedistiller',\n",
       " 'savefig.bbox',\n",
       " 'savefig.directory',\n",
       " 'savefig.dpi',\n",
       " 'savefig.edgecolor',\n",
       " 'savefig.facecolor',\n",
       " 'savefig.format',\n",
       " 'savefig.orientation',\n",
       " 'savefig.pad_inches',\n",
       " 'savefig.transparent',\n",
       " 'scatter.edgecolors',\n",
       " 'scatter.marker',\n",
       " 'svg.fonttype',\n",
       " 'svg.hashsalt',\n",
       " 'svg.image_inline',\n",
       " 'text.antialiased',\n",
       " 'text.color',\n",
       " 'text.hinting',\n",
       " 'text.hinting_factor',\n",
       " 'text.kerning_factor',\n",
       " 'text.latex.preamble',\n",
       " 'text.parse_math',\n",
       " 'text.usetex',\n",
       " 'timezone',\n",
       " 'tk.window_focus',\n",
       " 'toolbar',\n",
       " 'webagg.address',\n",
       " 'webagg.open_in_browser',\n",
       " 'webagg.port',\n",
       " 'webagg.port_retries',\n",
       " 'xaxis.labellocation',\n",
       " 'xtick.alignment',\n",
       " 'xtick.bottom',\n",
       " 'xtick.color',\n",
       " 'xtick.direction',\n",
       " 'xtick.labelbottom',\n",
       " 'xtick.labelcolor',\n",
       " 'xtick.labelsize',\n",
       " 'xtick.labeltop',\n",
       " 'xtick.major.bottom',\n",
       " 'xtick.major.pad',\n",
       " 'xtick.major.size',\n",
       " 'xtick.major.top',\n",
       " 'xtick.major.width',\n",
       " 'xtick.minor.bottom',\n",
       " 'xtick.minor.pad',\n",
       " 'xtick.minor.size',\n",
       " 'xtick.minor.top',\n",
       " 'xtick.minor.visible',\n",
       " 'xtick.minor.width',\n",
       " 'xtick.top',\n",
       " 'yaxis.labellocation',\n",
       " 'ytick.alignment',\n",
       " 'ytick.color',\n",
       " 'ytick.direction',\n",
       " 'ytick.labelcolor',\n",
       " 'ytick.labelleft',\n",
       " 'ytick.labelright',\n",
       " 'ytick.labelsize',\n",
       " 'ytick.left',\n",
       " 'ytick.major.left',\n",
       " 'ytick.major.pad',\n",
       " 'ytick.major.right',\n",
       " 'ytick.major.size',\n",
       " 'ytick.major.width',\n",
       " 'ytick.minor.left',\n",
       " 'ytick.minor.pad',\n",
       " 'ytick.minor.right',\n",
       " 'ytick.minor.size',\n",
       " 'ytick.minor.visible',\n",
       " 'ytick.minor.width',\n",
       " 'ytick.right']"
      ]
     },
     "execution_count": 7,
     "metadata": {},
     "output_type": "execute_result"
    }
   ],
   "source": [
    "list(rcParams.keys())"
   ]
  },
  {
   "cell_type": "code",
   "execution_count": 8,
   "id": "ad97b6e9",
   "metadata": {},
   "outputs": [],
   "source": [
    "rcParams['axes.labelsize'] = 1"
   ]
  },
  {
   "cell_type": "code",
   "execution_count": 11,
   "id": "5df1d77c",
   "metadata": {},
   "outputs": [
    {
     "data": {
      "application/vnd.plotly.v1+json": {
       "config": {
        "plotlyServerURL": "https://plot.ly"
       },
       "data": [
        {
         "line": {
          "color": "steelblue",
          "width": 3
         },
         "mode": "lines",
         "type": "scatter",
         "x": [
          0,
          1,
          2
         ],
         "y": [
          1,
          2,
          3
         ]
        }
       ],
       "layout": {
        "paper_bgcolor": "white",
        "plot_bgcolor": "white",
        "template": {
         "data": {
          "bar": [
           {
            "error_x": {
             "color": "#2a3f5f"
            },
            "error_y": {
             "color": "#2a3f5f"
            },
            "marker": {
             "line": {
              "color": "#E5ECF6",
              "width": 0.5
             },
             "pattern": {
              "fillmode": "overlay",
              "size": 10,
              "solidity": 0.2
             }
            },
            "type": "bar"
           }
          ],
          "barpolar": [
           {
            "marker": {
             "line": {
              "color": "#E5ECF6",
              "width": 0.5
             },
             "pattern": {
              "fillmode": "overlay",
              "size": 10,
              "solidity": 0.2
             }
            },
            "type": "barpolar"
           }
          ],
          "carpet": [
           {
            "aaxis": {
             "endlinecolor": "#2a3f5f",
             "gridcolor": "white",
             "linecolor": "white",
             "minorgridcolor": "white",
             "startlinecolor": "#2a3f5f"
            },
            "baxis": {
             "endlinecolor": "#2a3f5f",
             "gridcolor": "white",
             "linecolor": "white",
             "minorgridcolor": "white",
             "startlinecolor": "#2a3f5f"
            },
            "type": "carpet"
           }
          ],
          "choropleth": [
           {
            "colorbar": {
             "outlinewidth": 0,
             "ticks": ""
            },
            "type": "choropleth"
           }
          ],
          "contour": [
           {
            "colorbar": {
             "outlinewidth": 0,
             "ticks": ""
            },
            "colorscale": [
             [
              0,
              "#0d0887"
             ],
             [
              0.1111111111111111,
              "#46039f"
             ],
             [
              0.2222222222222222,
              "#7201a8"
             ],
             [
              0.3333333333333333,
              "#9c179e"
             ],
             [
              0.4444444444444444,
              "#bd3786"
             ],
             [
              0.5555555555555556,
              "#d8576b"
             ],
             [
              0.6666666666666666,
              "#ed7953"
             ],
             [
              0.7777777777777778,
              "#fb9f3a"
             ],
             [
              0.8888888888888888,
              "#fdca26"
             ],
             [
              1,
              "#f0f921"
             ]
            ],
            "type": "contour"
           }
          ],
          "contourcarpet": [
           {
            "colorbar": {
             "outlinewidth": 0,
             "ticks": ""
            },
            "type": "contourcarpet"
           }
          ],
          "heatmap": [
           {
            "colorbar": {
             "outlinewidth": 0,
             "ticks": ""
            },
            "colorscale": [
             [
              0,
              "#0d0887"
             ],
             [
              0.1111111111111111,
              "#46039f"
             ],
             [
              0.2222222222222222,
              "#7201a8"
             ],
             [
              0.3333333333333333,
              "#9c179e"
             ],
             [
              0.4444444444444444,
              "#bd3786"
             ],
             [
              0.5555555555555556,
              "#d8576b"
             ],
             [
              0.6666666666666666,
              "#ed7953"
             ],
             [
              0.7777777777777778,
              "#fb9f3a"
             ],
             [
              0.8888888888888888,
              "#fdca26"
             ],
             [
              1,
              "#f0f921"
             ]
            ],
            "type": "heatmap"
           }
          ],
          "heatmapgl": [
           {
            "colorbar": {
             "outlinewidth": 0,
             "ticks": ""
            },
            "colorscale": [
             [
              0,
              "#0d0887"
             ],
             [
              0.1111111111111111,
              "#46039f"
             ],
             [
              0.2222222222222222,
              "#7201a8"
             ],
             [
              0.3333333333333333,
              "#9c179e"
             ],
             [
              0.4444444444444444,
              "#bd3786"
             ],
             [
              0.5555555555555556,
              "#d8576b"
             ],
             [
              0.6666666666666666,
              "#ed7953"
             ],
             [
              0.7777777777777778,
              "#fb9f3a"
             ],
             [
              0.8888888888888888,
              "#fdca26"
             ],
             [
              1,
              "#f0f921"
             ]
            ],
            "type": "heatmapgl"
           }
          ],
          "histogram": [
           {
            "marker": {
             "pattern": {
              "fillmode": "overlay",
              "size": 10,
              "solidity": 0.2
             }
            },
            "type": "histogram"
           }
          ],
          "histogram2d": [
           {
            "colorbar": {
             "outlinewidth": 0,
             "ticks": ""
            },
            "colorscale": [
             [
              0,
              "#0d0887"
             ],
             [
              0.1111111111111111,
              "#46039f"
             ],
             [
              0.2222222222222222,
              "#7201a8"
             ],
             [
              0.3333333333333333,
              "#9c179e"
             ],
             [
              0.4444444444444444,
              "#bd3786"
             ],
             [
              0.5555555555555556,
              "#d8576b"
             ],
             [
              0.6666666666666666,
              "#ed7953"
             ],
             [
              0.7777777777777778,
              "#fb9f3a"
             ],
             [
              0.8888888888888888,
              "#fdca26"
             ],
             [
              1,
              "#f0f921"
             ]
            ],
            "type": "histogram2d"
           }
          ],
          "histogram2dcontour": [
           {
            "colorbar": {
             "outlinewidth": 0,
             "ticks": ""
            },
            "colorscale": [
             [
              0,
              "#0d0887"
             ],
             [
              0.1111111111111111,
              "#46039f"
             ],
             [
              0.2222222222222222,
              "#7201a8"
             ],
             [
              0.3333333333333333,
              "#9c179e"
             ],
             [
              0.4444444444444444,
              "#bd3786"
             ],
             [
              0.5555555555555556,
              "#d8576b"
             ],
             [
              0.6666666666666666,
              "#ed7953"
             ],
             [
              0.7777777777777778,
              "#fb9f3a"
             ],
             [
              0.8888888888888888,
              "#fdca26"
             ],
             [
              1,
              "#f0f921"
             ]
            ],
            "type": "histogram2dcontour"
           }
          ],
          "mesh3d": [
           {
            "colorbar": {
             "outlinewidth": 0,
             "ticks": ""
            },
            "type": "mesh3d"
           }
          ],
          "parcoords": [
           {
            "line": {
             "colorbar": {
              "outlinewidth": 0,
              "ticks": ""
             }
            },
            "type": "parcoords"
           }
          ],
          "pie": [
           {
            "automargin": true,
            "type": "pie"
           }
          ],
          "scatter": [
           {
            "fillpattern": {
             "fillmode": "overlay",
             "size": 10,
             "solidity": 0.2
            },
            "type": "scatter"
           }
          ],
          "scatter3d": [
           {
            "line": {
             "colorbar": {
              "outlinewidth": 0,
              "ticks": ""
             }
            },
            "marker": {
             "colorbar": {
              "outlinewidth": 0,
              "ticks": ""
             }
            },
            "type": "scatter3d"
           }
          ],
          "scattercarpet": [
           {
            "marker": {
             "colorbar": {
              "outlinewidth": 0,
              "ticks": ""
             }
            },
            "type": "scattercarpet"
           }
          ],
          "scattergeo": [
           {
            "marker": {
             "colorbar": {
              "outlinewidth": 0,
              "ticks": ""
             }
            },
            "type": "scattergeo"
           }
          ],
          "scattergl": [
           {
            "marker": {
             "colorbar": {
              "outlinewidth": 0,
              "ticks": ""
             }
            },
            "type": "scattergl"
           }
          ],
          "scattermapbox": [
           {
            "marker": {
             "colorbar": {
              "outlinewidth": 0,
              "ticks": ""
             }
            },
            "type": "scattermapbox"
           }
          ],
          "scatterpolar": [
           {
            "marker": {
             "colorbar": {
              "outlinewidth": 0,
              "ticks": ""
             }
            },
            "type": "scatterpolar"
           }
          ],
          "scatterpolargl": [
           {
            "marker": {
             "colorbar": {
              "outlinewidth": 0,
              "ticks": ""
             }
            },
            "type": "scatterpolargl"
           }
          ],
          "scatterternary": [
           {
            "marker": {
             "colorbar": {
              "outlinewidth": 0,
              "ticks": ""
             }
            },
            "type": "scatterternary"
           }
          ],
          "surface": [
           {
            "colorbar": {
             "outlinewidth": 0,
             "ticks": ""
            },
            "colorscale": [
             [
              0,
              "#0d0887"
             ],
             [
              0.1111111111111111,
              "#46039f"
             ],
             [
              0.2222222222222222,
              "#7201a8"
             ],
             [
              0.3333333333333333,
              "#9c179e"
             ],
             [
              0.4444444444444444,
              "#bd3786"
             ],
             [
              0.5555555555555556,
              "#d8576b"
             ],
             [
              0.6666666666666666,
              "#ed7953"
             ],
             [
              0.7777777777777778,
              "#fb9f3a"
             ],
             [
              0.8888888888888888,
              "#fdca26"
             ],
             [
              1,
              "#f0f921"
             ]
            ],
            "type": "surface"
           }
          ],
          "table": [
           {
            "cells": {
             "fill": {
              "color": "#EBF0F8"
             },
             "line": {
              "color": "white"
             }
            },
            "header": {
             "fill": {
              "color": "#C8D4E3"
             },
             "line": {
              "color": "white"
             }
            },
            "type": "table"
           }
          ]
         },
         "layout": {
          "annotationdefaults": {
           "arrowcolor": "#2a3f5f",
           "arrowhead": 0,
           "arrowwidth": 1
          },
          "autotypenumbers": "strict",
          "coloraxis": {
           "colorbar": {
            "outlinewidth": 0,
            "ticks": ""
           }
          },
          "colorscale": {
           "diverging": [
            [
             0,
             "#8e0152"
            ],
            [
             0.1,
             "#c51b7d"
            ],
            [
             0.2,
             "#de77ae"
            ],
            [
             0.3,
             "#f1b6da"
            ],
            [
             0.4,
             "#fde0ef"
            ],
            [
             0.5,
             "#f7f7f7"
            ],
            [
             0.6,
             "#e6f5d0"
            ],
            [
             0.7,
             "#b8e186"
            ],
            [
             0.8,
             "#7fbc41"
            ],
            [
             0.9,
             "#4d9221"
            ],
            [
             1,
             "#276419"
            ]
           ],
           "sequential": [
            [
             0,
             "#0d0887"
            ],
            [
             0.1111111111111111,
             "#46039f"
            ],
            [
             0.2222222222222222,
             "#7201a8"
            ],
            [
             0.3333333333333333,
             "#9c179e"
            ],
            [
             0.4444444444444444,
             "#bd3786"
            ],
            [
             0.5555555555555556,
             "#d8576b"
            ],
            [
             0.6666666666666666,
             "#ed7953"
            ],
            [
             0.7777777777777778,
             "#fb9f3a"
            ],
            [
             0.8888888888888888,
             "#fdca26"
            ],
            [
             1,
             "#f0f921"
            ]
           ],
           "sequentialminus": [
            [
             0,
             "#0d0887"
            ],
            [
             0.1111111111111111,
             "#46039f"
            ],
            [
             0.2222222222222222,
             "#7201a8"
            ],
            [
             0.3333333333333333,
             "#9c179e"
            ],
            [
             0.4444444444444444,
             "#bd3786"
            ],
            [
             0.5555555555555556,
             "#d8576b"
            ],
            [
             0.6666666666666666,
             "#ed7953"
            ],
            [
             0.7777777777777778,
             "#fb9f3a"
            ],
            [
             0.8888888888888888,
             "#fdca26"
            ],
            [
             1,
             "#f0f921"
            ]
           ]
          },
          "colorway": [
           "#636efa",
           "#EF553B",
           "#00cc96",
           "#ab63fa",
           "#FFA15A",
           "#19d3f3",
           "#FF6692",
           "#B6E880",
           "#FF97FF",
           "#FECB52"
          ],
          "font": {
           "color": "#2a3f5f"
          },
          "geo": {
           "bgcolor": "white",
           "lakecolor": "white",
           "landcolor": "#E5ECF6",
           "showlakes": true,
           "showland": true,
           "subunitcolor": "white"
          },
          "hoverlabel": {
           "align": "left"
          },
          "hovermode": "closest",
          "mapbox": {
           "style": "light"
          },
          "paper_bgcolor": "white",
          "plot_bgcolor": "#E5ECF6",
          "polar": {
           "angularaxis": {
            "gridcolor": "white",
            "linecolor": "white",
            "ticks": ""
           },
           "bgcolor": "#E5ECF6",
           "radialaxis": {
            "gridcolor": "white",
            "linecolor": "white",
            "ticks": ""
           }
          },
          "scene": {
           "xaxis": {
            "backgroundcolor": "#E5ECF6",
            "gridcolor": "white",
            "gridwidth": 2,
            "linecolor": "white",
            "showbackground": true,
            "ticks": "",
            "zerolinecolor": "white"
           },
           "yaxis": {
            "backgroundcolor": "#E5ECF6",
            "gridcolor": "white",
            "gridwidth": 2,
            "linecolor": "white",
            "showbackground": true,
            "ticks": "",
            "zerolinecolor": "white"
           },
           "zaxis": {
            "backgroundcolor": "#E5ECF6",
            "gridcolor": "white",
            "gridwidth": 2,
            "linecolor": "white",
            "showbackground": true,
            "ticks": "",
            "zerolinecolor": "white"
           }
          },
          "shapedefaults": {
           "line": {
            "color": "#2a3f5f"
           }
          },
          "ternary": {
           "aaxis": {
            "gridcolor": "white",
            "linecolor": "white",
            "ticks": ""
           },
           "baxis": {
            "gridcolor": "white",
            "linecolor": "white",
            "ticks": ""
           },
           "bgcolor": "#E5ECF6",
           "caxis": {
            "gridcolor": "white",
            "linecolor": "white",
            "ticks": ""
           }
          },
          "title": {
           "x": 0.05
          },
          "xaxis": {
           "automargin": true,
           "gridcolor": "white",
           "linecolor": "white",
           "ticks": "",
           "title": {
            "standoff": 15
           },
           "zerolinecolor": "white",
           "zerolinewidth": 2
          },
          "yaxis": {
           "automargin": true,
           "gridcolor": "white",
           "linecolor": "white",
           "ticks": "",
           "title": {
            "standoff": 15
           },
           "zerolinecolor": "white",
           "zerolinewidth": 2
          }
         }
        },
        "title": {
         "font": {
          "size": 16
         }
        },
        "xaxis": {
         "color": "grey",
         "linecolor": "grey",
         "linewidth": 2,
         "showgrid": false,
         "side": "bottom",
         "ticklen": 5,
         "ticks": "outside",
         "tickwidth": 2,
         "title": {
          "font": {
           "color": "grey",
           "size": 16
          }
         },
         "zeroline": false
        },
        "yaxis": {
         "color": "grey",
         "gridcolor": "grey",
         "gridwidth": 0.5,
         "linecolor": "grey",
         "linewidth": 2,
         "showgrid": true,
         "side": "left",
         "ticklen": 0,
         "ticks": "outside",
         "tickwidth": 0,
         "title": {
          "font": {
           "color": "grey",
           "size": 16
          }
         },
         "zeroline": false
        }
       }
      },
      "text/html": [
       "<div>                            <div id=\"cf6f60c3-9170-438a-8e59-130eaed66003\" class=\"plotly-graph-div\" style=\"height:525px; width:100%;\"></div>            <script type=\"text/javascript\">                require([\"plotly\"], function(Plotly) {                    window.PLOTLYENV=window.PLOTLYENV || {};                                    if (document.getElementById(\"cf6f60c3-9170-438a-8e59-130eaed66003\")) {                    Plotly.newPlot(                        \"cf6f60c3-9170-438a-8e59-130eaed66003\",                        [{\"line\":{\"color\":\"steelblue\",\"width\":3},\"mode\":\"lines\",\"x\":[0,1,2],\"y\":[1,2,3],\"type\":\"scatter\"}],                        {\"paper_bgcolor\":\"white\",\"plot_bgcolor\":\"white\",\"title\":{\"font\":{\"size\":16}},\"xaxis\":{\"color\":\"grey\",\"linecolor\":\"grey\",\"linewidth\":2,\"showgrid\":false,\"side\":\"bottom\",\"ticklen\":5,\"ticks\":\"outside\",\"tickwidth\":2,\"title\":{\"font\":{\"color\":\"grey\",\"size\":16}},\"zeroline\":false},\"yaxis\":{\"color\":\"grey\",\"gridcolor\":\"grey\",\"gridwidth\":0.5,\"linecolor\":\"grey\",\"linewidth\":2,\"showgrid\":true,\"side\":\"left\",\"ticklen\":0,\"ticks\":\"outside\",\"tickwidth\":0,\"title\":{\"font\":{\"color\":\"grey\",\"size\":16}},\"zeroline\":false},\"template\":{\"data\":{\"histogram2dcontour\":[{\"type\":\"histogram2dcontour\",\"colorbar\":{\"outlinewidth\":0,\"ticks\":\"\"},\"colorscale\":[[0.0,\"#0d0887\"],[0.1111111111111111,\"#46039f\"],[0.2222222222222222,\"#7201a8\"],[0.3333333333333333,\"#9c179e\"],[0.4444444444444444,\"#bd3786\"],[0.5555555555555556,\"#d8576b\"],[0.6666666666666666,\"#ed7953\"],[0.7777777777777778,\"#fb9f3a\"],[0.8888888888888888,\"#fdca26\"],[1.0,\"#f0f921\"]]}],\"choropleth\":[{\"type\":\"choropleth\",\"colorbar\":{\"outlinewidth\":0,\"ticks\":\"\"}}],\"histogram2d\":[{\"type\":\"histogram2d\",\"colorbar\":{\"outlinewidth\":0,\"ticks\":\"\"},\"colorscale\":[[0.0,\"#0d0887\"],[0.1111111111111111,\"#46039f\"],[0.2222222222222222,\"#7201a8\"],[0.3333333333333333,\"#9c179e\"],[0.4444444444444444,\"#bd3786\"],[0.5555555555555556,\"#d8576b\"],[0.6666666666666666,\"#ed7953\"],[0.7777777777777778,\"#fb9f3a\"],[0.8888888888888888,\"#fdca26\"],[1.0,\"#f0f921\"]]}],\"heatmap\":[{\"type\":\"heatmap\",\"colorbar\":{\"outlinewidth\":0,\"ticks\":\"\"},\"colorscale\":[[0.0,\"#0d0887\"],[0.1111111111111111,\"#46039f\"],[0.2222222222222222,\"#7201a8\"],[0.3333333333333333,\"#9c179e\"],[0.4444444444444444,\"#bd3786\"],[0.5555555555555556,\"#d8576b\"],[0.6666666666666666,\"#ed7953\"],[0.7777777777777778,\"#fb9f3a\"],[0.8888888888888888,\"#fdca26\"],[1.0,\"#f0f921\"]]}],\"heatmapgl\":[{\"type\":\"heatmapgl\",\"colorbar\":{\"outlinewidth\":0,\"ticks\":\"\"},\"colorscale\":[[0.0,\"#0d0887\"],[0.1111111111111111,\"#46039f\"],[0.2222222222222222,\"#7201a8\"],[0.3333333333333333,\"#9c179e\"],[0.4444444444444444,\"#bd3786\"],[0.5555555555555556,\"#d8576b\"],[0.6666666666666666,\"#ed7953\"],[0.7777777777777778,\"#fb9f3a\"],[0.8888888888888888,\"#fdca26\"],[1.0,\"#f0f921\"]]}],\"contourcarpet\":[{\"type\":\"contourcarpet\",\"colorbar\":{\"outlinewidth\":0,\"ticks\":\"\"}}],\"contour\":[{\"type\":\"contour\",\"colorbar\":{\"outlinewidth\":0,\"ticks\":\"\"},\"colorscale\":[[0.0,\"#0d0887\"],[0.1111111111111111,\"#46039f\"],[0.2222222222222222,\"#7201a8\"],[0.3333333333333333,\"#9c179e\"],[0.4444444444444444,\"#bd3786\"],[0.5555555555555556,\"#d8576b\"],[0.6666666666666666,\"#ed7953\"],[0.7777777777777778,\"#fb9f3a\"],[0.8888888888888888,\"#fdca26\"],[1.0,\"#f0f921\"]]}],\"surface\":[{\"type\":\"surface\",\"colorbar\":{\"outlinewidth\":0,\"ticks\":\"\"},\"colorscale\":[[0.0,\"#0d0887\"],[0.1111111111111111,\"#46039f\"],[0.2222222222222222,\"#7201a8\"],[0.3333333333333333,\"#9c179e\"],[0.4444444444444444,\"#bd3786\"],[0.5555555555555556,\"#d8576b\"],[0.6666666666666666,\"#ed7953\"],[0.7777777777777778,\"#fb9f3a\"],[0.8888888888888888,\"#fdca26\"],[1.0,\"#f0f921\"]]}],\"mesh3d\":[{\"type\":\"mesh3d\",\"colorbar\":{\"outlinewidth\":0,\"ticks\":\"\"}}],\"scatter\":[{\"fillpattern\":{\"fillmode\":\"overlay\",\"size\":10,\"solidity\":0.2},\"type\":\"scatter\"}],\"parcoords\":[{\"type\":\"parcoords\",\"line\":{\"colorbar\":{\"outlinewidth\":0,\"ticks\":\"\"}}}],\"scatterpolargl\":[{\"type\":\"scatterpolargl\",\"marker\":{\"colorbar\":{\"outlinewidth\":0,\"ticks\":\"\"}}}],\"bar\":[{\"error_x\":{\"color\":\"#2a3f5f\"},\"error_y\":{\"color\":\"#2a3f5f\"},\"marker\":{\"line\":{\"color\":\"#E5ECF6\",\"width\":0.5},\"pattern\":{\"fillmode\":\"overlay\",\"size\":10,\"solidity\":0.2}},\"type\":\"bar\"}],\"scattergeo\":[{\"type\":\"scattergeo\",\"marker\":{\"colorbar\":{\"outlinewidth\":0,\"ticks\":\"\"}}}],\"scatterpolar\":[{\"type\":\"scatterpolar\",\"marker\":{\"colorbar\":{\"outlinewidth\":0,\"ticks\":\"\"}}}],\"histogram\":[{\"marker\":{\"pattern\":{\"fillmode\":\"overlay\",\"size\":10,\"solidity\":0.2}},\"type\":\"histogram\"}],\"scattergl\":[{\"type\":\"scattergl\",\"marker\":{\"colorbar\":{\"outlinewidth\":0,\"ticks\":\"\"}}}],\"scatter3d\":[{\"type\":\"scatter3d\",\"line\":{\"colorbar\":{\"outlinewidth\":0,\"ticks\":\"\"}},\"marker\":{\"colorbar\":{\"outlinewidth\":0,\"ticks\":\"\"}}}],\"scattermapbox\":[{\"type\":\"scattermapbox\",\"marker\":{\"colorbar\":{\"outlinewidth\":0,\"ticks\":\"\"}}}],\"scatterternary\":[{\"type\":\"scatterternary\",\"marker\":{\"colorbar\":{\"outlinewidth\":0,\"ticks\":\"\"}}}],\"scattercarpet\":[{\"type\":\"scattercarpet\",\"marker\":{\"colorbar\":{\"outlinewidth\":0,\"ticks\":\"\"}}}],\"carpet\":[{\"aaxis\":{\"endlinecolor\":\"#2a3f5f\",\"gridcolor\":\"white\",\"linecolor\":\"white\",\"minorgridcolor\":\"white\",\"startlinecolor\":\"#2a3f5f\"},\"baxis\":{\"endlinecolor\":\"#2a3f5f\",\"gridcolor\":\"white\",\"linecolor\":\"white\",\"minorgridcolor\":\"white\",\"startlinecolor\":\"#2a3f5f\"},\"type\":\"carpet\"}],\"table\":[{\"cells\":{\"fill\":{\"color\":\"#EBF0F8\"},\"line\":{\"color\":\"white\"}},\"header\":{\"fill\":{\"color\":\"#C8D4E3\"},\"line\":{\"color\":\"white\"}},\"type\":\"table\"}],\"barpolar\":[{\"marker\":{\"line\":{\"color\":\"#E5ECF6\",\"width\":0.5},\"pattern\":{\"fillmode\":\"overlay\",\"size\":10,\"solidity\":0.2}},\"type\":\"barpolar\"}],\"pie\":[{\"automargin\":true,\"type\":\"pie\"}]},\"layout\":{\"autotypenumbers\":\"strict\",\"colorway\":[\"#636efa\",\"#EF553B\",\"#00cc96\",\"#ab63fa\",\"#FFA15A\",\"#19d3f3\",\"#FF6692\",\"#B6E880\",\"#FF97FF\",\"#FECB52\"],\"font\":{\"color\":\"#2a3f5f\"},\"hovermode\":\"closest\",\"hoverlabel\":{\"align\":\"left\"},\"paper_bgcolor\":\"white\",\"plot_bgcolor\":\"#E5ECF6\",\"polar\":{\"bgcolor\":\"#E5ECF6\",\"angularaxis\":{\"gridcolor\":\"white\",\"linecolor\":\"white\",\"ticks\":\"\"},\"radialaxis\":{\"gridcolor\":\"white\",\"linecolor\":\"white\",\"ticks\":\"\"}},\"ternary\":{\"bgcolor\":\"#E5ECF6\",\"aaxis\":{\"gridcolor\":\"white\",\"linecolor\":\"white\",\"ticks\":\"\"},\"baxis\":{\"gridcolor\":\"white\",\"linecolor\":\"white\",\"ticks\":\"\"},\"caxis\":{\"gridcolor\":\"white\",\"linecolor\":\"white\",\"ticks\":\"\"}},\"coloraxis\":{\"colorbar\":{\"outlinewidth\":0,\"ticks\":\"\"}},\"colorscale\":{\"sequential\":[[0.0,\"#0d0887\"],[0.1111111111111111,\"#46039f\"],[0.2222222222222222,\"#7201a8\"],[0.3333333333333333,\"#9c179e\"],[0.4444444444444444,\"#bd3786\"],[0.5555555555555556,\"#d8576b\"],[0.6666666666666666,\"#ed7953\"],[0.7777777777777778,\"#fb9f3a\"],[0.8888888888888888,\"#fdca26\"],[1.0,\"#f0f921\"]],\"sequentialminus\":[[0.0,\"#0d0887\"],[0.1111111111111111,\"#46039f\"],[0.2222222222222222,\"#7201a8\"],[0.3333333333333333,\"#9c179e\"],[0.4444444444444444,\"#bd3786\"],[0.5555555555555556,\"#d8576b\"],[0.6666666666666666,\"#ed7953\"],[0.7777777777777778,\"#fb9f3a\"],[0.8888888888888888,\"#fdca26\"],[1.0,\"#f0f921\"]],\"diverging\":[[0,\"#8e0152\"],[0.1,\"#c51b7d\"],[0.2,\"#de77ae\"],[0.3,\"#f1b6da\"],[0.4,\"#fde0ef\"],[0.5,\"#f7f7f7\"],[0.6,\"#e6f5d0\"],[0.7,\"#b8e186\"],[0.8,\"#7fbc41\"],[0.9,\"#4d9221\"],[1,\"#276419\"]]},\"xaxis\":{\"gridcolor\":\"white\",\"linecolor\":\"white\",\"ticks\":\"\",\"title\":{\"standoff\":15},\"zerolinecolor\":\"white\",\"automargin\":true,\"zerolinewidth\":2},\"yaxis\":{\"gridcolor\":\"white\",\"linecolor\":\"white\",\"ticks\":\"\",\"title\":{\"standoff\":15},\"zerolinecolor\":\"white\",\"automargin\":true,\"zerolinewidth\":2},\"scene\":{\"xaxis\":{\"backgroundcolor\":\"#E5ECF6\",\"gridcolor\":\"white\",\"linecolor\":\"white\",\"showbackground\":true,\"ticks\":\"\",\"zerolinecolor\":\"white\",\"gridwidth\":2},\"yaxis\":{\"backgroundcolor\":\"#E5ECF6\",\"gridcolor\":\"white\",\"linecolor\":\"white\",\"showbackground\":true,\"ticks\":\"\",\"zerolinecolor\":\"white\",\"gridwidth\":2},\"zaxis\":{\"backgroundcolor\":\"#E5ECF6\",\"gridcolor\":\"white\",\"linecolor\":\"white\",\"showbackground\":true,\"ticks\":\"\",\"zerolinecolor\":\"white\",\"gridwidth\":2}},\"shapedefaults\":{\"line\":{\"color\":\"#2a3f5f\"}},\"annotationdefaults\":{\"arrowcolor\":\"#2a3f5f\",\"arrowhead\":0,\"arrowwidth\":1},\"geo\":{\"bgcolor\":\"white\",\"landcolor\":\"#E5ECF6\",\"subunitcolor\":\"white\",\"showland\":true,\"showlakes\":true,\"lakecolor\":\"white\"},\"title\":{\"x\":0.05},\"mapbox\":{\"style\":\"light\"}}}},                        {\"responsive\": true}                    ).then(function(){\n",
       "                            \n",
       "var gd = document.getElementById('cf6f60c3-9170-438a-8e59-130eaed66003');\n",
       "var x = new MutationObserver(function (mutations, observer) {{\n",
       "        var display = window.getComputedStyle(gd).display;\n",
       "        if (!display || display === 'none') {{\n",
       "            console.log([gd, 'removed!']);\n",
       "            Plotly.purge(gd);\n",
       "            observer.disconnect();\n",
       "        }}\n",
       "}});\n",
       "\n",
       "// Listen for the removal of the full notebook cells\n",
       "var notebookContainer = gd.closest('#notebook-container');\n",
       "if (notebookContainer) {{\n",
       "    x.observe(notebookContainer, {childList: true});\n",
       "}}\n",
       "\n",
       "// Listen for the clearing of the current output cell\n",
       "var outputEl = gd.closest('.output');\n",
       "if (outputEl) {{\n",
       "    x.observe(outputEl, {childList: true});\n",
       "}}\n",
       "\n",
       "                        })                };                });            </script>        </div>"
      ]
     },
     "metadata": {},
     "output_type": "display_data"
    }
   ],
   "source": [
    "import matly.pyplot as plt\n",
    "from matly import rcParams\n",
    "plt.style.use(\"../src/stylesheets/matly.mplstyle\")\n",
    "\n",
    "f, ax = plt.subplots(1, 1)\n",
    "ax.plot([1, 2, 3])\n",
    "f.show()"
   ]
  },
  {
   "cell_type": "code",
   "execution_count": 16,
   "id": "6e022276",
   "metadata": {},
   "outputs": [
    {
     "data": {
      "text/plain": [
       "Layout({\n",
       "    'paper_bgcolor': 'white',\n",
       "    'plot_bgcolor': 'white',\n",
       "    'template': '...',\n",
       "    'title': {'font': {'size': 16}},\n",
       "    'xaxis': {'color': 'grey',\n",
       "              'linecolor': 'grey',\n",
       "              'linewidth': 2,\n",
       "              'showgrid': False,\n",
       "              'side': 'bottom',\n",
       "              'ticklen': 5,\n",
       "              'ticks': 'outside',\n",
       "              'tickwidth': 2,\n",
       "              'title': {'font': {'color': 'grey', 'size': 16}},\n",
       "              'zeroline': False},\n",
       "    'yaxis': {'color': 'grey',\n",
       "              'gridcolor': 'grey',\n",
       "              'gridwidth': 0.5,\n",
       "              'linecolor': 'grey',\n",
       "              'linewidth': 2,\n",
       "              'showgrid': True,\n",
       "              'side': 'left',\n",
       "              'ticklen': 0,\n",
       "              'ticks': 'outside',\n",
       "              'tickwidth': 0,\n",
       "              'title': {'font': {'color': 'grey', 'size': 16}},\n",
       "              'zeroline': False}\n",
       "})"
      ]
     },
     "execution_count": 16,
     "metadata": {},
     "output_type": "execute_result"
    }
   ],
   "source": [
    "f, ax = plt.subplots(1, 1)\n",
    "f.layout"
   ]
  },
  {
   "cell_type": "code",
   "execution_count": null,
   "id": "3507a35e",
   "metadata": {},
   "outputs": [],
   "source": []
  }
 ],
 "metadata": {
  "kernelspec": {
   "display_name": "matly",
   "language": "python",
   "name": "matly"
  },
  "language_info": {
   "codemirror_mode": {
    "name": "ipython",
    "version": 3
   },
   "file_extension": ".py",
   "mimetype": "text/x-python",
   "name": "python",
   "nbconvert_exporter": "python",
   "pygments_lexer": "ipython3",
   "version": "3.9.6"
  },
  "toc": {
   "base_numbering": 1,
   "nav_menu": {},
   "number_sections": true,
   "sideBar": true,
   "skip_h1_title": false,
   "title_cell": "Table of Contents",
   "title_sidebar": "Contents",
   "toc_cell": false,
   "toc_position": {},
   "toc_section_display": true,
   "toc_window_display": false
  }
 },
 "nbformat": 4,
 "nbformat_minor": 5
}
