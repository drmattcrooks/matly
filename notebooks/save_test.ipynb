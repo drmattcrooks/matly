{
 "cells": [
  {
   "cell_type": "code",
   "execution_count": 1,
   "id": "32be76dd",
   "metadata": {},
   "outputs": [],
   "source": [
    "# This command reloads our modules as we edit them\n",
    "%load_ext autoreload\n",
    "%autoreload 1"
   ]
  },
  {
   "cell_type": "code",
   "execution_count": 2,
   "id": "5304b647",
   "metadata": {},
   "outputs": [],
   "source": [
    "import os\n",
    "import sys"
   ]
  },
  {
   "cell_type": "code",
   "execution_count": 3,
   "id": "3f66a7c0",
   "metadata": {},
   "outputs": [],
   "source": [
    "sys.path.append('../src')"
   ]
  },
  {
   "cell_type": "markdown",
   "id": "59f846b0",
   "metadata": {},
   "source": [
    "### Test import"
   ]
  },
  {
   "cell_type": "code",
   "execution_count": 4,
   "id": "74508069",
   "metadata": {},
   "outputs": [],
   "source": [
    "import mattsplotlib.pyplot as plt"
   ]
  },
  {
   "cell_type": "code",
   "execution_count": 5,
   "id": "05e454dd",
   "metadata": {},
   "outputs": [],
   "source": [
    "# plt.test_function()"
   ]
  },
  {
   "cell_type": "markdown",
   "id": "88e4ea1c",
   "metadata": {},
   "source": [
    "### Test included Style Sheet"
   ]
  },
  {
   "cell_type": "code",
   "execution_count": 6,
   "id": "480b7d56",
   "metadata": {},
   "outputs": [
    {
     "name": "stdout",
     "output_type": "stream",
     "text": [
      "success!\n"
     ]
    }
   ],
   "source": [
    "plt.style.use('mattsplotlib')"
   ]
  },
  {
   "cell_type": "markdown",
   "id": "b9b16183",
   "metadata": {},
   "source": [
    "### Test environment set by use"
   ]
  },
  {
   "cell_type": "code",
   "execution_count": 7,
   "id": "0956fa18",
   "metadata": {},
   "outputs": [
    {
     "data": {
      "text/plain": [
       "'mattsplotlib'"
      ]
     },
     "execution_count": 7,
     "metadata": {},
     "output_type": "execute_result"
    }
   ],
   "source": [
    "os.environ['mattsplotlib_stylesheet']"
   ]
  },
  {
   "cell_type": "markdown",
   "id": "6aa58857",
   "metadata": {},
   "source": [
    "### Test 2 concurrent stylesheets"
   ]
  },
  {
   "cell_type": "code",
   "execution_count": 8,
   "id": "8f6bb390",
   "metadata": {},
   "outputs": [
    {
     "name": "stdout",
     "output_type": "stream",
     "text": [
      "This is style sheet 1\n"
     ]
    }
   ],
   "source": [
    "plt.style.use('../test/fixtures/stylesheet1.mplstyle')"
   ]
  },
  {
   "cell_type": "code",
   "execution_count": 9,
   "id": "dbe78334",
   "metadata": {},
   "outputs": [
    {
     "data": {
      "text/plain": [
       "'../test/fixtures/stylesheet1.mplstyle'"
      ]
     },
     "execution_count": 9,
     "metadata": {},
     "output_type": "execute_result"
    }
   ],
   "source": [
    "os.environ['mattsplotlib_stylesheet']"
   ]
  },
  {
   "cell_type": "markdown",
   "id": "3b4afbc6",
   "metadata": {},
   "source": [
    "# Save Packages"
   ]
  },
  {
   "cell_type": "code",
   "execution_count": 10,
   "id": "d14e83b3",
   "metadata": {},
   "outputs": [],
   "source": [
    "f = plt.figure()"
   ]
  },
  {
   "cell_type": "code",
   "execution_count": 11,
   "id": "ecabc881",
   "metadata": {},
   "outputs": [],
   "source": [
    "f.savefig('../figures/testsave.png')"
   ]
  },
  {
   "cell_type": "code",
   "execution_count": 12,
   "id": "93ef90d2",
   "metadata": {},
   "outputs": [],
   "source": [
    "f.savefig('../figures/testsave.pdf')"
   ]
  },
  {
   "cell_type": "code",
   "execution_count": 13,
   "id": "2ef64a5b",
   "metadata": {},
   "outputs": [
    {
     "ename": "ValueError",
     "evalue": "Unrecognised file format in filename: ../figures/testsave",
     "output_type": "error",
     "traceback": [
      "\u001b[0;31m---------------------------------------------------------------------------\u001b[0m",
      "\u001b[0;31mValueError\u001b[0m                                Traceback (most recent call last)",
      "\u001b[0;32m/var/folders/ky/mc91dxlj0vg9zf00h3p4xy180000gq/T/ipykernel_51821/349909201.py\u001b[0m in \u001b[0;36m<module>\u001b[0;34m\u001b[0m\n\u001b[0;32m----> 1\u001b[0;31m \u001b[0mf\u001b[0m\u001b[0;34m.\u001b[0m\u001b[0msavefig\u001b[0m\u001b[0;34m(\u001b[0m\u001b[0;34m'../figures/testsave'\u001b[0m\u001b[0;34m)\u001b[0m\u001b[0;34m\u001b[0m\u001b[0;34m\u001b[0m\u001b[0m\n\u001b[0m",
      "\u001b[0;32m~/Documents/GithubPersonal/mattsplotlib-dev/notebooks/../src/mattsplotlib/mattsplotlib_class.py\u001b[0m in \u001b[0;36msavefig\u001b[0;34m(self, filename)\u001b[0m\n\u001b[1;32m     26\u001b[0m             \u001b[0mos\u001b[0m\u001b[0;34m.\u001b[0m\u001b[0mremove\u001b[0m\u001b[0;34m(\u001b[0m\u001b[0;34mf\"{filename[:-4]}.pdf\"\u001b[0m\u001b[0;34m)\u001b[0m\u001b[0;34m\u001b[0m\u001b[0;34m\u001b[0m\u001b[0m\n\u001b[1;32m     27\u001b[0m         \u001b[0;32melse\u001b[0m\u001b[0;34m:\u001b[0m\u001b[0;34m\u001b[0m\u001b[0;34m\u001b[0m\u001b[0m\n\u001b[0;32m---> 28\u001b[0;31m             \u001b[0;32mraise\u001b[0m \u001b[0mValueError\u001b[0m\u001b[0;34m(\u001b[0m\u001b[0;34mf\"Unrecognised file format in filename: {filename}\"\u001b[0m\u001b[0;34m)\u001b[0m\u001b[0;34m\u001b[0m\u001b[0;34m\u001b[0m\u001b[0m\n\u001b[0m",
      "\u001b[0;31mValueError\u001b[0m: Unrecognised file format in filename: ../figures/testsave"
     ]
    }
   ],
   "source": [
    "f.savefig('../figures/testsave')"
   ]
  },
  {
   "cell_type": "markdown",
   "id": "66a135f0",
   "metadata": {},
   "source": [
    "# Integrtaion tests"
   ]
  },
  {
   "cell_type": "code",
   "execution_count": 16,
   "id": "c45c5dd1",
   "metadata": {},
   "outputs": [],
   "source": [
    "from mattsplotlib.mattsplotlib_class import MattsPlotLib, figureHandle"
   ]
  },
  {
   "cell_type": "code",
   "execution_count": 17,
   "id": "d655de7d",
   "metadata": {},
   "outputs": [],
   "source": [
    "fig = figureHandle(data=[], layout={})"
   ]
  },
  {
   "cell_type": "code",
   "execution_count": 19,
   "id": "dad82410",
   "metadata": {},
   "outputs": [
    {
     "data": {
      "text/plain": [
       "()"
      ]
     },
     "execution_count": 19,
     "metadata": {},
     "output_type": "execute_result"
    }
   ],
   "source": [
    "fig.data"
   ]
  },
  {
   "cell_type": "code",
   "execution_count": 21,
   "id": "99825fc1",
   "metadata": {},
   "outputs": [],
   "source": [
    "import plotly.graph_objects as go\n",
    "\n",
    "class figureHandle(go.Figure):\n",
    "    def __init__(self, *args, **kwargs):\n",
    "        data = kwargs.get('data', ())\n",
    "        layout = kwargs.get('layout', None)\n",
    "        super().__init__(data=data, layout=layout)"
   ]
  },
  {
   "cell_type": "code",
   "execution_count": 25,
   "id": "605e914a",
   "metadata": {},
   "outputs": [],
   "source": [
    "fig = figureHandle(data=None, layout={})"
   ]
  },
  {
   "cell_type": "code",
   "execution_count": 26,
   "id": "87b5a937",
   "metadata": {},
   "outputs": [
    {
     "data": {
      "text/plain": [
       "Layout({\n",
       "    'template': '...'\n",
       "})"
      ]
     },
     "execution_count": 26,
     "metadata": {},
     "output_type": "execute_result"
    }
   ],
   "source": [
    "fig.layout"
   ]
  },
  {
   "cell_type": "code",
   "execution_count": 28,
   "id": "fd96843c",
   "metadata": {},
   "outputs": [],
   "source": [
    "filename = 'test_figure.pdf'\n",
    "fig.write_image(f\"../test/fixtures/{filename[:-4]}.pdf\")\n",
    "#     images_from_path = convert_from_path('figures/bubble_plot_example.pdf', output_folder=path)\n",
    "# image = convert_from_bytes(open(f\"{filename[:-4]}.pdf\", 'rb').read())\n",
    "# image[0].save(filename)"
   ]
  },
  {
   "cell_type": "code",
   "execution_count": null,
   "id": "22db8a93",
   "metadata": {},
   "outputs": [],
   "source": []
  }
 ],
 "metadata": {
  "kernelspec": {
   "display_name": "Python 3 (ipykernel)",
   "language": "python",
   "name": "python3"
  },
  "language_info": {
   "codemirror_mode": {
    "name": "ipython",
    "version": 3
   },
   "file_extension": ".py",
   "mimetype": "text/x-python",
   "name": "python",
   "nbconvert_exporter": "python",
   "pygments_lexer": "ipython3",
   "version": "3.9.6"
  },
  "toc": {
   "base_numbering": 1,
   "nav_menu": {},
   "number_sections": true,
   "sideBar": true,
   "skip_h1_title": false,
   "title_cell": "Table of Contents",
   "title_sidebar": "Contents",
   "toc_cell": false,
   "toc_position": {},
   "toc_section_display": true,
   "toc_window_display": false
  }
 },
 "nbformat": 4,
 "nbformat_minor": 5
}
