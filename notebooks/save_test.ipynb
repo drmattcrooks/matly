{
 "cells": [
  {
   "cell_type": "code",
   "execution_count": 1,
   "id": "32be76dd",
   "metadata": {},
   "outputs": [],
   "source": [
    "# This command reloads our modules as we edit them\n",
    "%load_ext autoreload\n",
    "%autoreload 1"
   ]
  },
  {
   "cell_type": "code",
   "execution_count": 2,
   "id": "5304b647",
   "metadata": {},
   "outputs": [],
   "source": [
    "import os\n",
    "import sys"
   ]
  },
  {
   "cell_type": "code",
   "execution_count": 3,
   "id": "3f66a7c0",
   "metadata": {},
   "outputs": [],
   "source": [
    "sys.path.append('../src')"
   ]
  },
  {
   "cell_type": "markdown",
   "id": "59f846b0",
   "metadata": {},
   "source": [
    "### Test import"
   ]
  },
  {
   "cell_type": "code",
   "execution_count": 4,
   "id": "74508069",
   "metadata": {},
   "outputs": [],
   "source": [
    "import mattsplotlib.pyplot as plt"
   ]
  },
  {
   "cell_type": "code",
   "execution_count": 5,
   "id": "05e454dd",
   "metadata": {},
   "outputs": [
    {
     "name": "stdout",
     "output_type": "stream",
     "text": [
      "Imported!\n"
     ]
    }
   ],
   "source": [
    "plt.test_function()"
   ]
  },
  {
   "cell_type": "markdown",
   "id": "88e4ea1c",
   "metadata": {},
   "source": [
    "### Test included Style Sheet"
   ]
  },
  {
   "cell_type": "code",
   "execution_count": 6,
   "id": "480b7d56",
   "metadata": {},
   "outputs": [
    {
     "name": "stdout",
     "output_type": "stream",
     "text": [
      "success!\n"
     ]
    }
   ],
   "source": [
    "plt.style.use('mattsplotlib')"
   ]
  },
  {
   "cell_type": "markdown",
   "id": "b9b16183",
   "metadata": {},
   "source": [
    "### Test environment set by use"
   ]
  },
  {
   "cell_type": "code",
   "execution_count": 7,
   "id": "0956fa18",
   "metadata": {},
   "outputs": [
    {
     "data": {
      "text/plain": [
       "'mattsplotlib'"
      ]
     },
     "execution_count": 7,
     "metadata": {},
     "output_type": "execute_result"
    }
   ],
   "source": [
    "os.environ['mattsplotlib_stylesheet']"
   ]
  },
  {
   "cell_type": "markdown",
   "id": "6aa58857",
   "metadata": {},
   "source": [
    "### Test 2 concurrent stylesheets"
   ]
  },
  {
   "cell_type": "code",
   "execution_count": 8,
   "id": "8f6bb390",
   "metadata": {},
   "outputs": [
    {
     "name": "stdout",
     "output_type": "stream",
     "text": [
      "This is style sheet 1\n"
     ]
    }
   ],
   "source": [
    "plt.style.use('../test/fixtures/stylesheet1.mplstyle')"
   ]
  },
  {
   "cell_type": "code",
   "execution_count": 9,
   "id": "dbe78334",
   "metadata": {},
   "outputs": [
    {
     "data": {
      "text/plain": [
       "'../test/fixtures/stylesheet1.mplstyle'"
      ]
     },
     "execution_count": 9,
     "metadata": {},
     "output_type": "execute_result"
    }
   ],
   "source": [
    "os.environ['mattsplotlib_stylesheet']"
   ]
  },
  {
   "cell_type": "markdown",
   "id": "3b4afbc6",
   "metadata": {},
   "source": [
    "# Save Packages"
   ]
  },
  {
   "cell_type": "code",
   "execution_count": 10,
   "id": "d14e83b3",
   "metadata": {},
   "outputs": [],
   "source": [
    "f = plt.figure()"
   ]
  },
  {
   "cell_type": "code",
   "execution_count": 11,
   "id": "ecabc881",
   "metadata": {},
   "outputs": [],
   "source": [
    "f.savefig('../figures/testsave.png')"
   ]
  },
  {
   "cell_type": "code",
   "execution_count": 13,
   "id": "93ef90d2",
   "metadata": {},
   "outputs": [],
   "source": [
    "f.savefig('../figures/testsave.pdf')"
   ]
  },
  {
   "cell_type": "code",
   "execution_count": 14,
   "id": "2ef64a5b",
   "metadata": {},
   "outputs": [],
   "source": [
    "f.savefig('../figures/testsave')"
   ]
  },
  {
   "cell_type": "code",
   "execution_count": null,
   "id": "d655de7d",
   "metadata": {},
   "outputs": [],
   "source": []
  }
 ],
 "metadata": {
  "kernelspec": {
   "display_name": "Python 3 (ipykernel)",
   "language": "python",
   "name": "python3"
  },
  "language_info": {
   "codemirror_mode": {
    "name": "ipython",
    "version": 3
   },
   "file_extension": ".py",
   "mimetype": "text/x-python",
   "name": "python",
   "nbconvert_exporter": "python",
   "pygments_lexer": "ipython3",
   "version": "3.9.6"
  },
  "toc": {
   "base_numbering": 1,
   "nav_menu": {},
   "number_sections": true,
   "sideBar": true,
   "skip_h1_title": false,
   "title_cell": "Table of Contents",
   "title_sidebar": "Contents",
   "toc_cell": false,
   "toc_position": {},
   "toc_section_display": true,
   "toc_window_display": false
  }
 },
 "nbformat": 4,
 "nbformat_minor": 5
}
