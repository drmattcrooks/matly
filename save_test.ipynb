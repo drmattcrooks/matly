{
 "cells": [
  {
   "cell_type": "code",
   "execution_count": 1,
   "id": "32be76dd",
   "metadata": {},
   "outputs": [],
   "source": [
    "# This command reloads our modules as we edit them\n",
    "%load_ext autoreload\n",
    "%autoreload 1"
   ]
  },
  {
   "cell_type": "code",
   "execution_count": 2,
   "id": "5304b647",
   "metadata": {},
   "outputs": [],
   "source": [
    "import os\n",
    "import sys"
   ]
  },
  {
   "cell_type": "code",
   "execution_count": 3,
   "id": "3f66a7c0",
   "metadata": {},
   "outputs": [],
   "source": [
    "sys.path.append('../src')"
   ]
  },
  {
   "cell_type": "markdown",
   "id": "59f846b0",
   "metadata": {},
   "source": [
    "### Test import"
   ]
  },
  {
   "cell_type": "code",
   "execution_count": 4,
   "id": "74508069",
   "metadata": {},
   "outputs": [
    {
     "ename": "ModuleNotFoundError",
     "evalue": "No module named 'plotly'",
     "output_type": "error",
     "traceback": [
      "\u001b[0;31m---------------------------------------------------------------------------\u001b[0m",
      "\u001b[0;31mModuleNotFoundError\u001b[0m                       Traceback (most recent call last)",
      "Cell \u001b[0;32mIn [4], line 1\u001b[0m\n\u001b[0;32m----> 1\u001b[0m \u001b[38;5;28;01mimport\u001b[39;00m \u001b[38;5;21;01mmattsplotlib\u001b[39;00m\u001b[38;5;21;01m.\u001b[39;00m\u001b[38;5;21;01mpyplot\u001b[39;00m \u001b[38;5;28;01mas\u001b[39;00m \u001b[38;5;21;01mplt\u001b[39;00m\n",
      "File \u001b[0;32m~/Documents/github/mattsplotlib/src/mattsplotlib/pyplot.py:9\u001b[0m\n\u001b[1;32m      1\u001b[0m \u001b[38;5;66;03m#    __   ___\u001b[39;00m\n\u001b[1;32m      2\u001b[0m \u001b[38;5;66;03m#   /  |_/  / _   /_  /_ __  __ /  __ /_  /  * /__\u001b[39;00m\n\u001b[1;32m      3\u001b[0m \u001b[38;5;66;03m#  / /|_// / __| /   /  /_  / //  / //   /  / /  /\u001b[39;00m\n\u001b[1;32m      4\u001b[0m \u001b[38;5;66;03m# /_/   /_/ /_///__ /__ __//_//_ /_//__ /_ / /__/\u001b[39;00m\n\u001b[1;32m      5\u001b[0m \u001b[38;5;66;03m#                         /\u001b[39;00m\n\u001b[0;32m----> 9\u001b[0m \u001b[38;5;28;01mimport\u001b[39;00m \u001b[38;5;21;01mplotly\u001b[39;00m\u001b[38;5;21;01m.\u001b[39;00m\u001b[38;5;21;01mgraph_objects\u001b[39;00m \u001b[38;5;28;01mas\u001b[39;00m \u001b[38;5;21;01mgo\u001b[39;00m\n\u001b[1;32m     10\u001b[0m \u001b[38;5;28;01mfrom\u001b[39;00m \u001b[38;5;21;01mplotly\u001b[39;00m\u001b[38;5;21;01m.\u001b[39;00m\u001b[38;5;21;01msubplots\u001b[39;00m \u001b[38;5;28;01mimport\u001b[39;00m make_subplots\n\u001b[1;32m     11\u001b[0m \u001b[38;5;28;01mimport\u001b[39;00m \u001b[38;5;21;01mnumpy\u001b[39;00m \u001b[38;5;28;01mas\u001b[39;00m \u001b[38;5;21;01mnp\u001b[39;00m\n",
      "\u001b[0;31mModuleNotFoundError\u001b[0m: No module named 'plotly'"
     ]
    }
   ],
   "source": [
    "import mattsplotlib.pyplot as plt"
   ]
  },
  {
   "cell_type": "code",
   "execution_count": null,
   "id": "05e454dd",
   "metadata": {},
   "outputs": [],
   "source": [
    "# plt.test_function()"
   ]
  },
  {
   "cell_type": "markdown",
   "id": "88e4ea1c",
   "metadata": {},
   "source": [
    "### Test included Style Sheet"
   ]
  },
  {
   "cell_type": "code",
   "execution_count": null,
   "id": "480b7d56",
   "metadata": {},
   "outputs": [],
   "source": [
    "plt.style.use('mattsplotlib')"
   ]
  },
  {
   "cell_type": "markdown",
   "id": "b9b16183",
   "metadata": {},
   "source": [
    "### Test environment set by use"
   ]
  },
  {
   "cell_type": "code",
   "execution_count": null,
   "id": "0956fa18",
   "metadata": {},
   "outputs": [],
   "source": [
    "os.environ['mattsplotlib_stylesheet']"
   ]
  },
  {
   "cell_type": "markdown",
   "id": "6aa58857",
   "metadata": {},
   "source": [
    "### Test 2 concurrent stylesheets"
   ]
  },
  {
   "cell_type": "code",
   "execution_count": null,
   "id": "8f6bb390",
   "metadata": {},
   "outputs": [],
   "source": [
    "plt.style.use('../test/fixtures/stylesheet1.mplstyle')"
   ]
  },
  {
   "cell_type": "code",
   "execution_count": null,
   "id": "dbe78334",
   "metadata": {},
   "outputs": [],
   "source": [
    "os.environ['mattsplotlib_stylesheet']"
   ]
  },
  {
   "cell_type": "markdown",
   "id": "3b4afbc6",
   "metadata": {},
   "source": [
    "# Save Packages"
   ]
  },
  {
   "cell_type": "code",
   "execution_count": null,
   "id": "d14e83b3",
   "metadata": {},
   "outputs": [],
   "source": [
    "f = plt.figure()"
   ]
  },
  {
   "cell_type": "code",
   "execution_count": null,
   "id": "ecabc881",
   "metadata": {},
   "outputs": [],
   "source": [
    "# f.savefig('../figures/testsave.png')"
   ]
  },
  {
   "cell_type": "code",
   "execution_count": null,
   "id": "93ef90d2",
   "metadata": {},
   "outputs": [],
   "source": [
    "# f.savefig('../figures/testsave.pdf')"
   ]
  },
  {
   "cell_type": "code",
   "execution_count": null,
   "id": "2ef64a5b",
   "metadata": {},
   "outputs": [],
   "source": [
    "# f.savefig('../figures/testsave')"
   ]
  },
  {
   "cell_type": "markdown",
   "id": "66a135f0",
   "metadata": {},
   "source": [
    "# Integration tests"
   ]
  },
  {
   "cell_type": "code",
   "execution_count": null,
   "id": "c45c5dd1",
   "metadata": {},
   "outputs": [],
   "source": [
    "from mattsplotlib.mattsplotlib_class import MattsPlotLib, figureHandle"
   ]
  },
  {
   "cell_type": "code",
   "execution_count": null,
   "id": "d655de7d",
   "metadata": {},
   "outputs": [],
   "source": [
    "fig = figureHandle(data=[], layout={})"
   ]
  },
  {
   "cell_type": "code",
   "execution_count": null,
   "id": "dad82410",
   "metadata": {},
   "outputs": [],
   "source": [
    "fig.data"
   ]
  },
  {
   "cell_type": "markdown",
   "id": "ab1fdc62",
   "metadata": {},
   "source": [
    "## Subplots"
   ]
  },
  {
   "cell_type": "code",
   "execution_count": null,
   "id": "27bcc831",
   "metadata": {},
   "outputs": [],
   "source": [
    "import mattsplotlib.pyplot as mplt\n",
    "from mattsplotlib.pyplot import *"
   ]
  },
  {
   "cell_type": "code",
   "execution_count": null,
   "id": "99825fc1",
   "metadata": {},
   "outputs": [],
   "source": [
    "args=(2, 3)\n",
    "kwargs = {}\n",
    "\n",
    "rows, cols = mplt._get_rows_and_columns(*args)\n",
    "make_subplots_kwargs = mplt._create_make_subplots_kwargs(**kwargs)\n",
    "\n",
    "subplot_figure = make_subplots(rows, cols, subplot_titles=tuple([' '] * (rows * cols)), **make_subplots_kwargs)"
   ]
  },
  {
   "cell_type": "code",
   "execution_count": null,
   "id": "605e914a",
   "metadata": {},
   "outputs": [],
   "source": [
    "f, axes = mplt.subplots(2, 4)\n",
    "axes[1][3]\n",
    "f"
   ]
  },
  {
   "cell_type": "code",
   "execution_count": null,
   "id": "87b5a937",
   "metadata": {},
   "outputs": [],
   "source": [
    "fig.layout"
   ]
  },
  {
   "cell_type": "code",
   "execution_count": null,
   "id": "fd96843c",
   "metadata": {},
   "outputs": [],
   "source": [
    "filename = 'test_figure.pdf'\n",
    "fig.write_image(f\"../test/fixtures/{filename[:-4]}.pdf\")\n",
    "#     images_from_path = convert_from_path('figures/bubble_plot_example.pdf', output_folder=path)\n",
    "# image = convert_from_bytes(open(f\"{filename[:-4]}.pdf\", 'rb').read())\n",
    "# image[0].save(filename)"
   ]
  },
  {
   "cell_type": "code",
   "execution_count": null,
   "id": "22db8a93",
   "metadata": {},
   "outputs": [],
   "source": []
  }
 ],
 "metadata": {
  "kernelspec": {
   "display_name": "Python 3 (ipykernel)",
   "language": "python",
   "name": "python3"
  },
  "language_info": {
   "codemirror_mode": {
    "name": "ipython",
    "version": 3
   },
   "file_extension": ".py",
   "mimetype": "text/x-python",
   "name": "python",
   "nbconvert_exporter": "python",
   "pygments_lexer": "ipython3",
   "version": "3.10.8"
  },
  "toc": {
   "base_numbering": 1,
   "nav_menu": {},
   "number_sections": true,
   "sideBar": true,
   "skip_h1_title": false,
   "title_cell": "Table of Contents",
   "title_sidebar": "Contents",
   "toc_cell": false,
   "toc_position": {},
   "toc_section_display": true,
   "toc_window_display": false
  }
 },
 "nbformat": 4,
 "nbformat_minor": 5
}
